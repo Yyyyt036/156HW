{
 "cells": [
  {
   "cell_type": "code",
   "execution_count": 1,
   "id": "06e75d0c-7b9c-4daa-baaa-b4e735efe012",
   "metadata": {
    "tags": []
   },
   "outputs": [
    {
     "name": "stdout",
     "output_type": "stream",
     "text": [
      "1. Title: Wisconsin Diagnostic Breast Cancer (WDBC)\n",
      "\n",
      "2. Source Information\n",
      "\n",
      "a) Creators: \n",
      "\n",
      "\tDr. William H. Wolberg, General Surgery Dept., University of\n",
      "\tWisconsin,  Clinical Sciences Center, Madison, WI 53792\n",
      "\twolberg@eagle.surgery.wisc.edu\n",
      "\n",
      "\tW. Nick Street, Computer Sciences Dept., University of\n",
      "\tWisconsin, 1210 West Dayton St., Madison, WI 53706\n",
      "\tstreet@cs.wisc.edu  608-262-6619\n",
      "\n",
      "\tOlvi L. Mangasarian, Computer Sciences Dept., University of\n",
      "\tWisconsin, 1210 West Dayton St., Madison, WI 53706\n",
      "\tolvi@cs.wisc.edu \n",
      "\n",
      "b) Donor: Nick Street\n",
      "\n",
      "c) Date: November 1995\n",
      "\n",
      "3. Past Usage:\n",
      "\n",
      "first usage:\n",
      "\n",
      "\tW.N. Street, W.H. Wolberg and O.L. Mangasarian \n",
      "\tNuclear feature extraction for breast tumor diagnosis.\n",
      "\tIS&T/SPIE 1993 International Symposium on Electronic Imaging: Science\n",
      "\tand Technology, volume 1905, pages 861-870, San Jose, CA, 1993.\n",
      "\n",
      "OR literature:\n",
      "\n",
      "\tO.L. Mangasarian, W.N. Street and W.H. Wolberg. \n",
      "\tBreast cancer diagnosis and prognosis via linear programming. \n",
      "\tOperations Research, 43(4), pages 570-577, July-August 1995.\n",
      "\n",
      "Medical literature:\n",
      "\n",
      "\tW.H. Wolberg, W.N. Street, and O.L. Mangasarian. \n",
      "\tMachine learning techniques to diagnose breast cancer from\n",
      "\tfine-needle aspirates.  \n",
      "\tCancer Letters 77 (1994) 163-171.\n",
      "\n",
      "\tW.H. Wolberg, W.N. Street, and O.L. Mangasarian. \n",
      "\tImage analysis and machine learning applied to breast cancer\n",
      "\tdiagnosis and prognosis.  \n",
      "\tAnalytical and Quantitative Cytology and Histology, Vol. 17\n",
      "\tNo. 2, pages 77-87, April 1995. \n",
      "\n",
      "\tW.H. Wolberg, W.N. Street, D.M. Heisey, and O.L. Mangasarian. \n",
      "\tComputerized breast cancer diagnosis and prognosis from fine\n",
      "\tneedle aspirates.  \n",
      "\tArchives of Surgery 1995;130:511-516.\n",
      "\n",
      "\tW.H. Wolberg, W.N. Street, D.M. Heisey, and O.L. Mangasarian. \n",
      "\tComputer-derived nuclear features distinguish malignant from\n",
      "\tbenign breast cytology.  \n",
      "\tHuman Pathology, 26:792--796, 1995.\n",
      "\n",
      "See also:\n",
      "\thttp://www.cs.wisc.edu/~olvi/uwmp/mpml.html\n",
      "\thttp://www.cs.wisc.edu/~olvi/uwmp/cancer.html\n",
      "\n",
      "Results:\n",
      "\n",
      "\t- predicting field 2, diagnosis: B = benign, M = malignant\n",
      "\t- sets are linearly separable using all 30 input features\n",
      "\t- best predictive accuracy obtained using one separating plane\n",
      "\t\tin the 3-D space of Worst Area, Worst Smoothness and\n",
      "\t\tMean Texture.  Estimated accuracy 97.5% using repeated\n",
      "\t\t10-fold crossvalidations.  Classifier has correctly\n",
      "\t\tdiagnosed 176 consecutive new patients as of November\n",
      "\t\t1995. \n",
      "\n",
      "4. Relevant information\n",
      "\n",
      "\tFeatures are computed from a digitized image of a fine needle\n",
      "\taspirate (FNA) of a breast mass.  They describe\n",
      "\tcharacteristics of the cell nuclei present in the image.\n",
      "\tA few of the images can be found at\n",
      "\thttp://www.cs.wisc.edu/~street/images/\n",
      "\n",
      "\tSeparating plane described above was obtained using\n",
      "\tMultisurface Method-Tree (MSM-T) [K. P. Bennett, \"Decision Tree\n",
      "\tConstruction Via Linear Programming.\" Proceedings of the 4th\n",
      "\tMidwest Artificial Intelligence and Cognitive Science Society,\n",
      "\tpp. 97-101, 1992], a classification method which uses linear\n",
      "\tprogramming to construct a decision tree.  Relevant features\n",
      "\twere selected using an exhaustive search in the space of 1-4\n",
      "\tfeatures and 1-3 separating planes.\n",
      "\n",
      "\tThe actual linear program used to obtain the separating plane\n",
      "\tin the 3-dimensional space is that described in:\n",
      "\t[K. P. Bennett and O. L. Mangasarian: \"Robust Linear\n",
      "\tProgramming Discrimination of Two Linearly Inseparable Sets\",\n",
      "\tOptimization Methods and Software 1, 1992, 23-34].\n",
      "\n",
      "\n",
      "\tThis database is also available through the UW CS ftp server:\n",
      "\n",
      "\tftp ftp.cs.wisc.edu\n",
      "\tcd math-prog/cpo-dataset/machine-learn/WDBC/\n",
      "\n",
      "5. Number of instances: 569 \n",
      "\n",
      "6. Number of attributes: 32 (ID, diagnosis, 30 real-valued input features)\n",
      "\n",
      "7. Attribute information\n",
      "\n",
      "1) ID number\n",
      "2) Diagnosis (M = malignant, B = benign)\n",
      "3-32)\n",
      "\n",
      "Ten real-valued features are computed for each cell nucleus:\n",
      "\n",
      "\ta) radius (mean of distances from center to points on the perimeter)\n",
      "\tb) texture (standard deviation of gray-scale values)\n",
      "\tc) perimeter\n",
      "\td) area\n",
      "\te) smoothness (local variation in radius lengths)\n",
      "\tf) compactness (perimeter^2 / area - 1.0)\n",
      "\tg) concavity (severity of concave portions of the contour)\n",
      "\th) concave points (number of concave portions of the contour)\n",
      "\ti) symmetry \n",
      "\tj) fractal dimension (\"coastline approximation\" - 1)\n",
      "\n",
      "Several of the papers listed above contain detailed descriptions of\n",
      "how these features are computed. \n",
      "\n",
      "The mean, standard error, and \"worst\" or largest (mean of the three\n",
      "largest values) of these features were computed for each image,\n",
      "resulting in 30 features.  For instance, field 3 is Mean Radius, field\n",
      "13 is Radius SE, field 23 is Worst Radius.\n",
      "\n",
      "All feature values are recoded with four significant digits.\n",
      "\n",
      "8. Missing attribute values: none\n",
      "\n",
      "9. Class distribution: 357 benign, 212 malignant\n"
     ]
    }
   ],
   "source": [
    "with open(\"wdbc.names\") as f:\n",
    "    print(f.read())"
   ]
  },
  {
   "cell_type": "code",
   "execution_count": 2,
   "id": "561a266c-a064-40c0-86bb-248ea50001f0",
   "metadata": {
    "tags": []
   },
   "outputs": [
    {
     "name": "stdout",
     "output_type": "stream",
     "text": [
      "[ 0 -1 -2]\n",
      "[ 3  8 15]\n"
     ]
    }
   ],
   "source": [
    "import numpy as np\n",
    "\n",
    "in_arr1 = np.array([1, 2, 3])\n",
    "in_arr2 = np.array([3, 4, 5])\n",
    "\n",
    "\n",
    "out_arr = np.subtract(1, in_arr1) \n",
    "\n",
    "print(out_arr)\n",
    "print(in_arr1 * in_arr2)"
   ]
  },
  {
   "cell_type": "code",
   "execution_count": 3,
   "id": "aaf19115-7b56-4eb0-a0c0-e9a9e1a9f71b",
   "metadata": {
    "tags": []
   },
   "outputs": [],
   "source": [
    "import math\n",
    "\n",
    "\n",
    "def concat(X):\n",
    "    return pd.DataFrame(np.c_[np.ones((X.shape[0], 1)), X])\n",
    "\n",
    "\n",
    "\n",
    "\n",
    "class MiniB:\n",
    "    def __init__(self, X, y):\n",
    "        self.w = np.random.normal(0, 0.000005, size = 31)\n",
    "    \n",
    "    def prediction(self, X):\n",
    "        r = 1/(1 + np.exp((-1.0)*(X.dot(self.w))))\n",
    "        return r\n",
    "    \n",
    "    \n",
    "    \n",
    "    \n",
    "    def minib(self, train, n_k=0.000001, num_iterations=100, batch_size = 20):\n",
    "        for iteration in range(num_iterations):\n",
    "            t_shuf = train.sample(frac = 1)          \n",
    "            y = t_shuf.iloc[:,1]\n",
    "            y = y.replace(to_replace=['B', 'M'], value=['0', '1'])\n",
    "            y = y.convert_dtypes()\n",
    "            y = pd.to_numeric(y, errors='coerce')\n",
    "            X = t_shuf.iloc[:,2:32]\n",
    "            X = concat(X)\n",
    "            for i in range(int(X.shape[0]/batch_size)):\n",
    "                for j in range(batch_size):\n",
    "                    z_neg = (-1.0)*(X.iloc[j,:].dot(self.w))\n",
    "                    ex = np.exp(z_neg)\n",
    "                    pred = 1/(1 + ex)\n",
    "                    e = y.iloc[j] - pred\n",
    "                    error_grad = np.dot(X.iloc[j,:].T, e)\n",
    "                    self.w += n_k * error_grad * X.iloc[j,:]\n",
    "        print(self.w)\n",
    "        return self.w\n"
   ]
  },
  {
   "cell_type": "code",
   "execution_count": 4,
   "id": "37a124ec-0e56-4d67-aaac-ce12c5809663",
   "metadata": {
    "tags": []
   },
   "outputs": [
    {
     "name": "stdout",
     "output_type": "stream",
     "text": [
      "       842302  M  17.99  10.38   122.8    1001   0.1184   0.2776   0.3001  \\\n",
      "0      842517  M  20.57  17.77  132.90  1326.0  0.08474  0.07864  0.08690   \n",
      "1    84300903  M  19.69  21.25  130.00  1203.0  0.10960  0.15990  0.19740   \n",
      "2    84348301  M  11.42  20.38   77.58   386.1  0.14250  0.28390  0.24140   \n",
      "3    84358402  M  20.29  14.34  135.10  1297.0  0.10030  0.13280  0.19800   \n",
      "4      843786  M  12.45  15.70   82.57   477.1  0.12780  0.17000  0.15780   \n",
      "..        ... ..    ...    ...     ...     ...      ...      ...      ...   \n",
      "563    926424  M  21.56  22.39  142.00  1479.0  0.11100  0.11590  0.24390   \n",
      "564    926682  M  20.13  28.25  131.20  1261.0  0.09780  0.10340  0.14400   \n",
      "565    926954  M  16.60  28.08  108.30   858.1  0.08455  0.10230  0.09251   \n",
      "566    927241  M  20.60  29.33  140.10  1265.0  0.11780  0.27700  0.35140   \n",
      "567     92751  B   7.76  24.54   47.92   181.0  0.05263  0.04362  0.00000   \n",
      "\n",
      "      0.1471  ...   25.38  17.33   184.6    2019   0.1622   0.6656  0.7119  \\\n",
      "0    0.07017  ...  24.990  23.41  158.80  1956.0  0.12380  0.18660  0.2416   \n",
      "1    0.12790  ...  23.570  25.53  152.50  1709.0  0.14440  0.42450  0.4504   \n",
      "2    0.10520  ...  14.910  26.50   98.87   567.7  0.20980  0.86630  0.6869   \n",
      "3    0.10430  ...  22.540  16.67  152.20  1575.0  0.13740  0.20500  0.4000   \n",
      "4    0.08089  ...  15.470  23.75  103.40   741.6  0.17910  0.52490  0.5355   \n",
      "..       ...  ...     ...    ...     ...     ...      ...      ...     ...   \n",
      "563  0.13890  ...  25.450  26.40  166.10  2027.0  0.14100  0.21130  0.4107   \n",
      "564  0.09791  ...  23.690  38.25  155.00  1731.0  0.11660  0.19220  0.3215   \n",
      "565  0.05302  ...  18.980  34.12  126.70  1124.0  0.11390  0.30940  0.3403   \n",
      "566  0.15200  ...  25.740  39.42  184.60  1821.0  0.16500  0.86810  0.9387   \n",
      "567  0.00000  ...   9.456  30.37   59.16   268.6  0.08996  0.06444  0.0000   \n",
      "\n",
      "     0.2654  0.4601   0.1189  \n",
      "0    0.1860  0.2750  0.08902  \n",
      "1    0.2430  0.3613  0.08758  \n",
      "2    0.2575  0.6638  0.17300  \n",
      "3    0.1625  0.2364  0.07678  \n",
      "4    0.1741  0.3985  0.12440  \n",
      "..      ...     ...      ...  \n",
      "563  0.2216  0.2060  0.07115  \n",
      "564  0.1628  0.2572  0.06637  \n",
      "565  0.1418  0.2218  0.07820  \n",
      "566  0.2650  0.4087  0.12400  \n",
      "567  0.0000  0.2871  0.07039  \n",
      "\n",
      "[568 rows x 32 columns]\n",
      "(568, 32)\n"
     ]
    }
   ],
   "source": [
    "import pandas as pd\n",
    "BC = pd.read_csv('wdbc.data')\n",
    "print(BC)\n",
    "print(BC.shape)\n"
   ]
  },
  {
   "cell_type": "code",
   "execution_count": 5,
   "id": "e4962027-d937-4691-95e9-3758a08e7fb9",
   "metadata": {
    "tags": []
   },
   "outputs": [
    {
     "name": "stdout",
     "output_type": "stream",
     "text": [
      "       842302  M  17.99  10.38   122.8   1001   0.1184   0.2776   0.3001  \\\n",
      "238  88330202  M  17.46  39.28  113.40  920.6  0.09812  0.12980  0.14170   \n",
      "324  89511502  B  12.67  17.30   81.25  489.9  0.10280  0.07664  0.03193   \n",
      "294    891923  B  13.77  13.27   88.06  582.7  0.09198  0.06221  0.01063   \n",
      "557    925277  B  14.59  22.68   96.39  657.1  0.08473  0.13300  0.10290   \n",
      "117    864877  M  15.78  22.91  105.70  782.6  0.11550  0.17520  0.21330   \n",
      "\n",
      "      0.1471  ...  25.38  17.33   184.6    2019  0.1622  0.6656   0.7119  \\\n",
      "238  0.08811  ...  22.51  44.87  141.20  1408.0  0.1365  0.3735  0.32410   \n",
      "324  0.02107  ...  13.71  21.10   88.70   574.4  0.1384  0.1212  0.10200   \n",
      "294  0.01917  ...  14.67  16.93   94.17   661.1  0.1170  0.1072  0.03732   \n",
      "557  0.03736  ...  15.48  27.27  105.90   733.5  0.1026  0.3171  0.36620   \n",
      "117  0.09479  ...  20.19  30.50  130.30  1272.0  0.1855  0.4925  0.73560   \n",
      "\n",
      "      0.2654  0.4601   0.1189  \n",
      "238  0.20660  0.2853  0.08496  \n",
      "324  0.05602  0.2688  0.06888  \n",
      "294  0.05802  0.2823  0.06794  \n",
      "557  0.11050  0.2258  0.08004  \n",
      "117  0.20340  0.3274  0.12520  \n",
      "\n",
      "[5 rows x 32 columns]\n",
      "(340, 32)\n",
      "        842302  M   17.99  10.38   122.8    1001   0.1184  0.2776   0.3001  \\\n",
      "12      846381  M  15.850  23.95  103.70   782.7  0.08401  0.1002  0.09938   \n",
      "70      859711  B   8.888  14.64   58.79   244.0  0.09783  0.1531  0.08606   \n",
      "448  911157302  M  21.100  20.52  138.10  1384.0  0.09684  0.1175  0.15720   \n",
      "499     914862  B  15.040  16.74   98.73   689.4  0.09883  0.1364  0.07721   \n",
      "3     84358402  M  20.290  14.34  135.10  1297.0  0.10030  0.1328  0.19800   \n",
      "\n",
      "      0.1471  ...   25.38  17.33   184.6    2019  0.1622  0.6656  0.7119  \\\n",
      "12   0.05364  ...  16.840  27.66  112.00   876.5  0.1131  0.1924  0.2322   \n",
      "70   0.02872  ...   9.733  15.67   62.56   284.4  0.1207  0.2436  0.1434   \n",
      "448  0.11550  ...  25.680  32.07  168.20  2022.0  0.1368  0.3101  0.4399   \n",
      "499  0.06142  ...  16.760  20.43  109.70   856.9  0.1135  0.2176  0.1856   \n",
      "3    0.10430  ...  22.540  16.67  152.20  1575.0  0.1374  0.2050  0.4000   \n",
      "\n",
      "      0.2654  0.4601   0.1189  \n",
      "12   0.11190  0.2809  0.06287  \n",
      "70   0.04786  0.2254  0.10840  \n",
      "448  0.22800  0.2268  0.07425  \n",
      "499  0.10180  0.2177  0.08549  \n",
      "3    0.16250  0.2364  0.07678  \n",
      "\n",
      "[5 rows x 32 columns]\n",
      "(114, 32)\n",
      "      842302  M  17.99  10.38  122.8   1001   0.1184   0.2776   0.3001  \\\n",
      "339    89813  B  14.42  16.54  94.15  641.2  0.09751  0.11390  0.08007   \n",
      "78   8610908  B  12.86  18.00  83.19  506.3  0.09934  0.09546  0.03889   \n",
      "39    855167  M  13.44  21.58  86.18  563.0  0.08162  0.06031  0.03110   \n",
      "501    91505  B  12.54  16.32  81.25  476.3  0.11580  0.10850  0.05928   \n",
      "420   906564  B  14.69  13.98  98.22  656.1  0.10310  0.18360  0.14500   \n",
      "\n",
      "      0.1471  ...  25.38  17.33   184.6   2019  0.1622  0.6656  0.7119  \\\n",
      "339  0.04223  ...  16.67  21.51  111.40  862.1  0.1294  0.3371  0.3755   \n",
      "78   0.02315  ...  14.24  24.82   91.88  622.1  0.1289  0.2141  0.1731   \n",
      "39   0.02031  ...  15.93  30.25  102.50  787.9  0.1094  0.2043  0.2085   \n",
      "501  0.03279  ...  13.57  21.40   86.67  552.0  0.1580  0.1751  0.1889   \n",
      "420  0.06300  ...  16.46  18.34  114.10  809.2  0.1312  0.3635  0.3219   \n",
      "\n",
      "      0.2654  0.4601   0.1189  \n",
      "339  0.14140  0.3053  0.08764  \n",
      "78   0.07926  0.2779  0.07918  \n",
      "39   0.11120  0.2994  0.07146  \n",
      "501  0.08411  0.3155  0.07538  \n",
      "420  0.11080  0.2827  0.09208  \n",
      "\n",
      "[5 rows x 32 columns]\n",
      "(114, 32)\n"
     ]
    }
   ],
   "source": [
    "import numpy as np\n",
    "from sklearn.model_selection import train_test_split\n",
    "\n",
    "\n",
    "BC_train, BCtest= train_test_split(BC, train_size = 0.6)\n",
    "BC_val, BC_test = train_test_split(BCtest, train_size = 0.5)\n",
    "\n",
    "print(BC_train.head())\n",
    "print(BC_train.shape)\n",
    "print(BC_val.head())\n",
    "print(BC_val.shape)\n",
    "print(BC_test.head())\n",
    "print(BC_test.shape)"
   ]
  },
  {
   "cell_type": "code",
   "execution_count": 6,
   "id": "f6cb6cd5-3909-4815-b672-8c27902881d6",
   "metadata": {
    "tags": []
   },
   "outputs": [
    {
     "name": "stderr",
     "output_type": "stream",
     "text": [
      "/var/folders/y3/mc1_jynn1k56n5hhjtvw97tw0000gn/T/ipykernel_57138/2840406797.py:33: RuntimeWarning: overflow encountered in exp\n",
      "  ex = np.exp(z_neg)\n"
     ]
    },
    {
     "name": "stdout",
     "output_type": "stream",
     "text": [
      "0    -2.294926e-03\n",
      "1    -2.521217e-01\n",
      "2    -5.480264e-01\n",
      "3    -9.676222e+00\n",
      "4    -5.757896e+00\n",
      "5    -1.464960e-05\n",
      "6    -1.690144e-06\n",
      "7     3.437403e-05\n",
      "8     9.817034e-06\n",
      "9    -6.343154e-05\n",
      "10   -7.991130e-06\n",
      "11    1.039179e-04\n",
      "12   -2.413823e-03\n",
      "13    8.700722e-03\n",
      "14    3.513592e+00\n",
      "15    6.788376e-06\n",
      "16    1.181313e-06\n",
      "17   -9.523249e-07\n",
      "18    6.076550e-06\n",
      "19    2.402488e-06\n",
      "20   -3.578656e-06\n",
      "21   -3.033625e-01\n",
      "22   -9.370363e-01\n",
      "23   -1.152195e+01\n",
      "24    7.080719e+00\n",
      "25   -2.419213e-05\n",
      "26    8.092544e-05\n",
      "27    1.495984e-04\n",
      "28    8.609826e-06\n",
      "29   -1.168810e-04\n",
      "30   -1.707911e-05\n",
      "Name: 0, dtype: float64\n"
     ]
    },
    {
     "data": {
      "text/plain": [
       "0    -2.294926e-03\n",
       "1    -2.521217e-01\n",
       "2    -5.480264e-01\n",
       "3    -9.676222e+00\n",
       "4    -5.757896e+00\n",
       "5    -1.464960e-05\n",
       "6    -1.690144e-06\n",
       "7     3.437403e-05\n",
       "8     9.817034e-06\n",
       "9    -6.343154e-05\n",
       "10   -7.991130e-06\n",
       "11    1.039179e-04\n",
       "12   -2.413823e-03\n",
       "13    8.700722e-03\n",
       "14    3.513592e+00\n",
       "15    6.788376e-06\n",
       "16    1.181313e-06\n",
       "17   -9.523249e-07\n",
       "18    6.076550e-06\n",
       "19    2.402488e-06\n",
       "20   -3.578656e-06\n",
       "21   -3.033625e-01\n",
       "22   -9.370363e-01\n",
       "23   -1.152195e+01\n",
       "24    7.080719e+00\n",
       "25   -2.419213e-05\n",
       "26    8.092544e-05\n",
       "27    1.495984e-04\n",
       "28    8.609826e-06\n",
       "29   -1.168810e-04\n",
       "30   -1.707911e-05\n",
       "Name: 0, dtype: float64"
      ]
     },
     "execution_count": 6,
     "metadata": {},
     "output_type": "execute_result"
    }
   ],
   "source": [
    "X_train = BC_train.iloc[:,2:32]\n",
    "y_train = BC_train.iloc[:,1]\n",
    "\n",
    "X_train = concat(X_train)\n",
    "\n",
    "MB = MiniB(X_train, y_train)\n",
    "MB.w\n",
    "\n",
    "\n",
    "\n",
    "MB.minib(BC_train)"
   ]
  },
  {
   "cell_type": "code",
   "execution_count": 7,
   "id": "6f667413-0d85-4064-a30a-1526dceba18c",
   "metadata": {
    "tags": []
   },
   "outputs": [
    {
     "name": "stderr",
     "output_type": "stream",
     "text": [
      "/Users/yancheng/anaconda3/lib/python3.11/site-packages/pandas/core/arraylike.py:396: RuntimeWarning: overflow encountered in exp\n",
      "  result = getattr(ufunc, method)(*inputs, **kwargs)\n"
     ]
    }
   ],
   "source": [
    "p = MB.prediction(X_train)"
   ]
  },
  {
   "cell_type": "code",
   "execution_count": 8,
   "id": "82b6d8a9-edbe-458b-8bce-48f17b1a454c",
   "metadata": {
    "tags": []
   },
   "outputs": [
    {
     "name": "stdout",
     "output_type": "stream",
     "text": [
      "[1 0 0 0 1 0 0 1 0 0 0 0 0 0 1 0 0 0 0 0 0 0 0 1 0 0 1 1 1 1 0 0 1 0 0 0 1\n",
      " 1 0 0 0 0 1 1 0 0 0 1 1 0 0 1 1 0 1 0 0 0 1 0 1 0 0 1 0 1 0 0 1 1 0 0 0 0\n",
      " 0 1 0 0 0 0 0 0 0 0 0 0 0 1 1 1 1 0 0 0 1 1 1 1 1 1 0 0 0 0 1 1 0 0 0 1 0\n",
      " 0 0 0 0 1 1 1 1 0 0 1 1 1 0 0 0 0 0 0 1 0 0 0 0 0 1 1 1 0 0 1 1 0 0 0 0 0\n",
      " 1 1 0 0 1 0 1 0 1 0 1 0 0 1 0 0 0 0 1 1 1 1 0 1 0 0 0 1 0 0 1 0 0 0 0 0 0\n",
      " 0 0 0 0 0 0 1 0 0 0 1 1 0 1 1 0 0 0 0 1 0 1 0 0 0 1 1 0 1 0 0 0 0 0 0 0 1\n",
      " 0 0 0 1 0 1 1 0 0 1 0 1 0 0 1 1 0 1 0 0 0 0 0 1 0 1 1 0 0 0 1 1 0 0 1 0 0\n",
      " 0 0 0 0 1 1 0 1 0 0 0 1 0 1 1 1 1 0 0 0 0 0 1 0 1 0 0 0 1 0 0 0 1 0 0 0 0\n",
      " 0 0 1 1 1 1 0 0 0 1 0 0 1 0 1 1 0 1 0 1 0 1 1 1 1 1 0 1 0 1 0 0 0 0 0 0 0\n",
      " 0 0 1 0 0 0 0]\n",
      "(340,)\n",
      "238    1\n",
      "324    0\n",
      "294    0\n",
      "557    0\n",
      "117    1\n",
      "      ..\n",
      "93     1\n",
      "302    0\n",
      "245    0\n",
      "205    0\n",
      "54     0\n",
      "Name: M, Length: 340, dtype: Int64\n",
      "0.9264705882352942\n",
      "0.9338842975206612\n",
      "0.8692307692307693\n",
      "0.9003984063745021\n"
     ]
    }
   ],
   "source": [
    "from sklearn.datasets import make_classification\n",
    "from sklearn.model_selection import train_test_split\n",
    "from sklearn.metrics import accuracy_score\n",
    "from sklearn.metrics import precision_score\n",
    "from sklearn.metrics import recall_score\n",
    "from sklearn.metrics import f1_score\n",
    "\n",
    "\n",
    "p = np.where(p > 0.5, 1, 0)\n",
    "print(p)\n",
    "print(p.shape)\n",
    "y_train = y_train.replace(to_replace=['B', 'M'], value=['0', '1'])\n",
    "y_train = y_train.convert_dtypes()\n",
    "y_train = pd.to_numeric(y_train, errors='coerce')\n",
    "print(y_train)\n",
    "print(accuracy_score(y_train, p))\n",
    "print(precision_score(y_train, p))\n",
    "print(recall_score(y_train, p))\n",
    "print(f1_score(y_train, p))"
   ]
  },
  {
   "cell_type": "code",
   "execution_count": 9,
   "id": "93d93bab-baa8-4df0-bf37-4e4b9e33cbff",
   "metadata": {
    "tags": []
   },
   "outputs": [],
   "source": [
    "X_train = BC_train.iloc[:,2:32]\n",
    "y_train = BC_train.iloc[:,1]\n",
    "\n",
    "X_train = concat(X_train)\n"
   ]
  },
  {
   "cell_type": "code",
   "execution_count": 10,
   "id": "66edc758-2775-4c11-a947-b6c3bd40423b",
   "metadata": {
    "tags": []
   },
   "outputs": [
    {
     "data": {
      "text/plain": [
       "0"
      ]
     },
     "execution_count": 10,
     "metadata": {},
     "output_type": "execute_result"
    }
   ],
   "source": [
    "import pandas as pd\n",
    "\n",
    "y_train\n",
    "y_train = y_train.replace(to_replace=['B', 'M'], value=['0', '1'])\n",
    "y_train = y_train.convert_dtypes()\n",
    "y_train = pd.to_numeric(y_train, errors='coerce')\n",
    "y_train.iloc[3]"
   ]
  }
 ],
 "metadata": {
  "kernelspec": {
   "display_name": "Python 3 (ipykernel)",
   "language": "python",
   "name": "python3"
  },
  "language_info": {
   "codemirror_mode": {
    "name": "ipython",
    "version": 3
   },
   "file_extension": ".py",
   "mimetype": "text/x-python",
   "name": "python",
   "nbconvert_exporter": "python",
   "pygments_lexer": "ipython3",
   "version": "3.11.5"
  }
 },
 "nbformat": 4,
 "nbformat_minor": 5
}
