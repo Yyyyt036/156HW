{
 "cells": [
  {
   "cell_type": "code",
   "execution_count": 1,
   "metadata": {
    "tags": []
   },
   "outputs": [],
   "source": [
    "\n",
    "import numpy as np\n"
   ]
  },
  {
   "cell_type": "code",
   "execution_count": 2,
   "metadata": {
    "tags": []
   },
   "outputs": [
    {
     "name": "stdout",
     "output_type": "stream",
     "text": [
      "   fixed acidity  volatile acidity  citric acid  residual sugar  chlorides  \\\n",
      "0            7.4              0.70         0.00             1.9      0.076   \n",
      "1            7.8              0.88         0.00             2.6      0.098   \n",
      "2            7.8              0.76         0.04             2.3      0.092   \n",
      "3           11.2              0.28         0.56             1.9      0.075   \n",
      "4            7.4              0.70         0.00             1.9      0.076   \n",
      "\n",
      "   free sulfur dioxide  total sulfur dioxide  density    pH  sulphates  \\\n",
      "0                 11.0                  34.0   0.9978  3.51       0.56   \n",
      "1                 25.0                  67.0   0.9968  3.20       0.68   \n",
      "2                 15.0                  54.0   0.9970  3.26       0.65   \n",
      "3                 17.0                  60.0   0.9980  3.16       0.58   \n",
      "4                 11.0                  34.0   0.9978  3.51       0.56   \n",
      "\n",
      "   alcohol  quality  \n",
      "0      9.4        5  \n",
      "1      9.8        5  \n",
      "2      9.8        5  \n",
      "3      9.8        6  \n",
      "4      9.4        5  \n",
      "(1599, 12)\n"
     ]
    }
   ],
   "source": [
    "import pandas as pd\n",
    "red_wine = pd.read_csv('winequality-red.csv', sep = ';')\n",
    "print(red_wine.head())\n",
    "print(red_wine.shape)"
   ]
  },
  {
   "cell_type": "code",
   "execution_count": 3,
   "metadata": {
    "tags": []
   },
   "outputs": [
    {
     "name": "stdout",
     "output_type": "stream",
     "text": [
      "      fixed acidity  volatile acidity  citric acid  residual sugar  chlorides  \\\n",
      "13              7.8             0.610         0.29             1.6      0.114   \n",
      "538            12.9             0.350         0.49             5.8      0.066   \n",
      "763             9.3             0.655         0.26             2.0      0.096   \n",
      "121             8.8             0.550         0.04             2.2      0.119   \n",
      "1099            8.6             0.520         0.38             1.5      0.096   \n",
      "\n",
      "      free sulfur dioxide  total sulfur dioxide  density    pH  sulphates  \\\n",
      "13                    9.0                  29.0  0.99740  3.26       1.56   \n",
      "538                   5.0                  35.0  1.00140  3.20       0.66   \n",
      "763                   5.0                  35.0  0.99738  3.25       0.42   \n",
      "121                  14.0                  56.0  0.99620  3.21       0.60   \n",
      "1099                  5.0                  18.0  0.99666  3.20       0.52   \n",
      "\n",
      "      alcohol  quality  \n",
      "13        9.1        5  \n",
      "538      12.0        7  \n",
      "763       9.6        5  \n",
      "121      10.9        6  \n",
      "1099      9.4        5  \n",
      "      fixed acidity  volatile acidity  citric acid  residual sugar  chlorides  \\\n",
      "1063           10.2              0.29         0.65             2.4      0.075   \n",
      "1020           11.3              0.36         0.66             2.4      0.123   \n",
      "1102            6.1              0.48         0.09             1.7      0.078   \n",
      "1262            9.8              0.45         0.38             2.5      0.081   \n",
      "190             8.2              0.50         0.35             2.9      0.077   \n",
      "\n",
      "      free sulfur dioxide  total sulfur dioxide  density    pH  sulphates  \\\n",
      "1063                  6.0                  17.0  0.99565  3.22       0.63   \n",
      "1020                  3.0                   8.0  0.99642  3.20       0.53   \n",
      "1102                 18.0                  30.0  0.99402  3.45       0.54   \n",
      "1262                 34.0                  66.0  0.99726  3.15       0.58   \n",
      "190                  21.0                 127.0  0.99760  3.23       0.62   \n",
      "\n",
      "      alcohol  quality  \n",
      "1063     11.8        6  \n",
      "1020     11.9        6  \n",
      "1102     11.2        6  \n",
      "1262      9.8        5  \n",
      "190       9.4        5  \n",
      "      fixed acidity  volatile acidity  citric acid  residual sugar  chlorides  \\\n",
      "1362           11.6             0.475         0.40             1.4      0.091   \n",
      "563             7.6             0.290         0.49             2.7      0.092   \n",
      "1267           10.4             0.430         0.50             2.3      0.068   \n",
      "1497            6.9             0.740         0.03             2.3      0.054   \n",
      "609             6.3             0.360         0.19             3.2      0.075   \n",
      "\n",
      "      free sulfur dioxide  total sulfur dioxide  density    pH  sulphates  \\\n",
      "1362                  6.0                  28.0  0.99704  3.07       0.65   \n",
      "563                  25.0                  60.0  0.99710  3.31       0.61   \n",
      "1267                 13.0                  19.0  0.99600  3.10       0.87   \n",
      "1497                  7.0                  16.0  0.99508  3.45       0.63   \n",
      "609                  15.0                  39.0  0.99560  3.56       0.52   \n",
      "\n",
      "        alcohol  quality  \n",
      "1362  10.033333        6  \n",
      "563   10.100000        6  \n",
      "1267  11.400000        6  \n",
      "1497  11.500000        6  \n",
      "609   12.700000        6  \n"
     ]
    }
   ],
   "source": [
    "import numpy as np\n",
    "from sklearn.model_selection import train_test_split\n",
    "\n",
    "\n",
    "rwine_train, rtest= train_test_split(red_wine, train_size = 0.6)\n",
    "rwine_val, rwine_test = train_test_split(red_wine, train_size = 0.5)\n",
    "\n",
    "print(rwine_train.head())\n",
    "print(rwine_val.head())\n",
    "print(rwine_test.head())\n"
   ]
  },
  {
   "cell_type": "code",
   "execution_count": 4,
   "metadata": {
    "tags": []
   },
   "outputs": [
    {
     "name": "stdout",
     "output_type": "stream",
     "text": [
      "<bound method NDFrame.head of       fixed acidity  volatile acidity  citric acid  residual sugar  chlorides  \\\n",
      "13              7.8             0.610         0.29             1.6      0.114   \n",
      "538            12.9             0.350         0.49             5.8      0.066   \n",
      "763             9.3             0.655         0.26             2.0      0.096   \n",
      "121             8.8             0.550         0.04             2.2      0.119   \n",
      "1099            8.6             0.520         0.38             1.5      0.096   \n",
      "...             ...               ...          ...             ...        ...   \n",
      "923             6.8             0.410         0.31             8.8      0.084   \n",
      "574            10.6             0.340         0.49             3.2      0.078   \n",
      "248             7.7             0.530         0.06             1.7      0.074   \n",
      "581            12.3             0.500         0.49             2.2      0.089   \n",
      "505            10.2             0.490         0.63             2.9      0.072   \n",
      "\n",
      "      free sulfur dioxide  total sulfur dioxide  density    pH  sulphates  \\\n",
      "13                    9.0                  29.0  0.99740  3.26       1.56   \n",
      "538                   5.0                  35.0  1.00140  3.20       0.66   \n",
      "763                   5.0                  35.0  0.99738  3.25       0.42   \n",
      "121                  14.0                  56.0  0.99620  3.21       0.60   \n",
      "1099                  5.0                  18.0  0.99666  3.20       0.52   \n",
      "...                   ...                   ...      ...   ...        ...   \n",
      "923                  26.0                  45.0  0.99824  3.38       0.64   \n",
      "574                  20.0                  78.0  0.99920  3.19       0.70   \n",
      "248                   9.0                  39.0  0.99615  3.35       0.48   \n",
      "581                   5.0                  14.0  1.00020  3.19       0.44   \n",
      "505                  10.0                  26.0  0.99680  3.16       0.78   \n",
      "\n",
      "      alcohol  \n",
      "13        9.1  \n",
      "538      12.0  \n",
      "763       9.6  \n",
      "121      10.9  \n",
      "1099      9.4  \n",
      "...       ...  \n",
      "923      10.1  \n",
      "574      10.0  \n",
      "248       9.8  \n",
      "581       9.6  \n",
      "505      12.5  \n",
      "\n",
      "[959 rows x 11 columns]>\n"
     ]
    }
   ],
   "source": [
    "\n",
    "\n",
    "\n",
    "y_train = rwine_train.iloc[:,-1] \n",
    "\n",
    "\n",
    "\n",
    "X_train = rwine_train.iloc[:,:-1]\n",
    "print(X_train.head)\n",
    "\n",
    "\n",
    "\n"
   ]
  },
  {
   "cell_type": "code",
   "execution_count": 5,
   "metadata": {
    "tags": []
   },
   "outputs": [
    {
     "data": {
      "text/plain": [
       "array([-1.83963723e-02, -1.09924238e+00, -1.23675158e-01,  2.28397442e-02,\n",
       "       -1.59529323e+00,  3.19263325e-03, -2.96450112e-03,  5.67772100e+00,\n",
       "       -8.32280785e-01,  7.43817487e-01,  3.07012190e-01])"
      ]
     },
     "execution_count": 5,
     "metadata": {},
     "output_type": "execute_result"
    }
   ],
   "source": [
    "class lreg:\n",
    "    def __init__(self):\n",
    "        self.beta = None\n",
    "\n",
    "\n",
    "    def train(self, X, y):\n",
    "        self.beta = np.linalg.inv(X.T.dot(X)).dot(X.T).dot(y)\n",
    "\n",
    "    def predict(self, X):\n",
    "        return X.dot(self.beta)\n",
    "    \n",
    "    \n",
    "r_wine = lreg()\n",
    "r_wine.train(X_train, y_train)\n",
    "r_wine.beta\n",
    "\n",
    "\n",
    "\n"
   ]
  },
  {
   "cell_type": "code",
   "execution_count": 6,
   "metadata": {
    "tags": []
   },
   "outputs": [
    {
     "name": "stdout",
     "output_type": "stream",
     "text": [
      "train RMSE = 0.6439219784183737\n",
      "test RMSE = 0.6709398546643942\n"
     ]
    }
   ],
   "source": [
    "import math\n",
    "\n",
    "y_pred = r_wine.predict(X_train)\n",
    "\n",
    "def RMSE(y_true, y_pred):\n",
    "    residues = y_true - y_pred\n",
    "    return math.sqrt(residues @ residues.T / len(y_true))\n",
    "\n",
    "\n",
    "\n",
    "print(f'train RMSE = {RMSE(y_train, y_pred)}')\n",
    "\n",
    "\n",
    "y_test = rwine_test.iloc[:,-1] \n",
    "\n",
    "X_test = rwine_test.iloc[:,:-1]\n",
    "y_testpred = r_wine.predict(X_test)\n",
    "print(f'test RMSE = {RMSE(y_test, y_testpred)}')\n"
   ]
  },
  {
   "cell_type": "code",
   "execution_count": 7,
   "metadata": {
    "tags": []
   },
   "outputs": [],
   "source": [
    "from sklearn.datasets import load_iris\n",
    "from sklearn.preprocessing import StandardScaler\n",
    "\n",
    "scale = StandardScaler()"
   ]
  },
  {
   "cell_type": "code",
   "execution_count": 8,
   "metadata": {
    "tags": []
   },
   "outputs": [
    {
     "name": "stdout",
     "output_type": "stream",
     "text": [
      "      0         1         2         3         4         5         6   \\\n",
      "0    1.0 -0.306559  0.458135  0.066938 -0.648454  0.564030 -0.662615   \n",
      "1    1.0  2.509646 -1.031678  1.092400  2.089327 -0.472103 -1.039903   \n",
      "2    1.0  0.521737  0.715988 -0.086881 -0.387713  0.175480 -1.039903   \n",
      "3    1.0  0.245638  0.114332 -1.214888 -0.257342  0.671960 -0.191005   \n",
      "4    1.0  0.135199 -0.057569  0.528396 -0.713639  0.175480 -1.039903   \n",
      "..   ...       ...       ...       ...       ...       ...       ...   \n",
      "954  1.0 -0.858756 -0.687875  0.169485  4.044885 -0.083553  0.940860   \n",
      "955  1.0  1.239593 -1.088979  1.092400  0.394510 -0.213070  0.374928   \n",
      "956  1.0 -0.361778 -0.000269 -1.112342 -0.583269 -0.299414 -0.662615   \n",
      "957  1.0  2.178328 -0.172170  1.092400 -0.257342  0.024377 -1.039903   \n",
      "958  1.0  1.018714 -0.229471  1.810223  0.198954 -0.342586 -0.568293   \n",
      "\n",
      "           7         8         9         10        11        12  \n",
      "0   -0.548420  0.303557 -0.320147  5.343845 -1.238927 -0.810023  \n",
      "1   -0.371014  2.387837 -0.698719  0.022258  1.500117  1.691788  \n",
      "2   -0.371014  0.293136 -0.383243 -1.396832 -0.766678 -0.810023  \n",
      "3    0.249907 -0.321727 -0.635624 -0.332514  0.461169  0.440882  \n",
      "4   -0.873664 -0.082035 -0.698719 -0.805544 -0.955578 -0.810023  \n",
      "..        ...       ...       ...       ...       ...       ...  \n",
      "954 -0.075337  0.741256  0.436995 -0.095999 -0.294429  0.440882  \n",
      "955  0.900395  1.241483 -0.761814  0.258773 -0.388879  0.440882  \n",
      "956 -0.252743 -0.347780  0.247710 -1.042059 -0.577779  0.440882  \n",
      "957 -0.991935  1.762553 -0.761814 -1.278574 -0.766678 -0.810023  \n",
      "958 -0.637123 -0.009085 -0.951100  0.731803  1.972366  1.691788  \n",
      "\n",
      "[959 rows x 13 columns]\n"
     ]
    }
   ],
   "source": [
    "\n",
    "\n",
    "\n",
    "def stad(X):\n",
    "    for i in range(X.shape[1]):\n",
    "        X.iloc[:,i] = (X.iloc[:,i] - X.iloc[:,i].mean())/X.iloc[:,i].std()**2\n",
    "    return X\n",
    "\n",
    "train_scale = pd.DataFrame(scale.fit_transform(rwine_train),columns = rwine_train.columns)\n",
    "\n",
    "train_scale = np.c_[np.ones((train_scale.shape[0], 1)), train_scale]\n",
    "train_scale = pd.DataFrame(train_scale)\n",
    "\n",
    "print(train_scale)\n",
    "\n",
    "\n",
    "def concat(X):\n",
    "    return np.concatenate([np.ones(shape=(len(X), 1)), X], axis=1)\n",
    "\n",
    "\n",
    "\n",
    "class LMS:\n",
    "    def __init__(self):\n",
    "        self.w = np.random.uniform(low = -0.1, high = 0.1, size = 12)\n",
    "    \n",
    "    def lms(self, train, n_k=0.000001, num_iterations=100):\n",
    "        for iteration in range(num_iterations):\n",
    "            t_shuf = train.sample(frac = 1)          \n",
    "            y = t_shuf.iloc[:,-1] \n",
    "            X = t_shuf.iloc[:,:-1]\n",
    "            for i in range(X.shape[0]):\n",
    "                pred = np.dot(X.iloc[i], self.w)\n",
    "                error = y.iloc[i] - pred\n",
    "                self.w += n_k * error * X.iloc[i]\n",
    "\n",
    "        \n",
    "    def predictL(self, X):\n",
    "        return np.dot(X, self.w)\n"
   ]
  },
  {
   "cell_type": "code",
   "execution_count": 9,
   "metadata": {
    "tags": []
   },
   "outputs": [],
   "source": [
    "\n",
    "\n",
    "\n",
    "LMS_r = LMS()\n",
    "LMS_r.w\n",
    "LMS_r.lms(train_scale)\n",
    "\n"
   ]
  },
  {
   "cell_type": "code",
   "execution_count": 10,
   "metadata": {
    "tags": []
   },
   "outputs": [
    {
     "name": "stdout",
     "output_type": "stream",
     "text": [
      "train RMSE = 0.9475699670064375\n"
     ]
    }
   ],
   "source": [
    "\n",
    "X_train_scale = train_scale.iloc[:,:-1]\n",
    "y_train_scale = train_scale.iloc[:,-1] \n",
    "\n",
    "\n",
    "\n",
    "y_LMSpred = LMS_r.predictL(X_train_scale)\n",
    "\n",
    "print(f'train RMSE = {RMSE(y_train_scale, y_LMSpred)}')\n",
    "\n"
   ]
  },
  {
   "cell_type": "code",
   "execution_count": 11,
   "metadata": {
    "tags": []
   },
   "outputs": [],
   "source": [
    "test_scale = pd.DataFrame(scale.fit_transform(rwine_test),columns = rwine_test.columns)\n",
    "test_scale = pd.DataFrame(test_scale)"
   ]
  },
  {
   "cell_type": "code",
   "execution_count": 12,
   "metadata": {
    "tags": []
   },
   "outputs": [
    {
     "name": "stdout",
     "output_type": "stream",
     "text": [
      "test RMSE = 0.9519536844976731\n"
     ]
    }
   ],
   "source": [
    "X_test_scale = test_scale.iloc[:,:-1]\n",
    "y_test_scale = test_scale.iloc[:,-1] \n",
    "X_test_scale = np.c_[np.ones((X_test_scale.shape[0], 1)), X_test_scale]\n",
    "y_test_LMSpred = LMS_r.predictL(X_test_scale)\n",
    "\n",
    "print(f'test RMSE = {RMSE(y_test_scale, y_test_LMSpred)}')"
   ]
  },
  {
   "cell_type": "code",
   "execution_count": 13,
   "metadata": {
    "tags": []
   },
   "outputs": [
    {
     "data": {
      "image/png": "[encoded data removed]",
      "text/plain": [
       "<Figure size 640x480 with 1 Axes>"
      ]
     },
     "metadata": {},
     "output_type": "display_data"
    }
   ],
   "source": [
    "import matplotlib.pyplot as plt\n",
    "\n",
    "\n",
    "plt.scatter(y_train, y_pred)\n",
    "plt.show()"
   ]
  }
 ],
 "metadata": {
  "kernelspec": {
   "display_name": "Python 3 (ipykernel)",
   "language": "python",
   "name": "python3"
  },
  "language_info": {
   "codemirror_mode": {
    "name": "ipython",
    "version": 3
   },
   "file_extension": ".py",
   "mimetype": "text/x-python",
   "name": "python",
   "nbconvert_exporter": "python",
   "pygments_lexer": "ipython3",
   "version": "3.11.5"
  }
 },
 "nbformat": 4,
 "nbformat_minor": 4
}
